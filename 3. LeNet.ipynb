{
 "cells": [
  {
   "cell_type": "markdown",
   "metadata": {},
   "source": [
    "## Implementing LeNet\n",
    "\n",
    "Yann le Cun proposed a family of **ConvNets** named **LeNet** trained for recoginizing MNIST handwritten characters with robustness to simple geometric transformations and to distortion. \n",
    "\n",
    "For more details: [paper](http://yann.lecun.com/exdb/publis/pdf/lecun-bengio-95a.pdf)\n",
    "\n",
    "The key intuition here is to have low-layers alternating convolution operations with max-pooling operations. The Convolution operations are based on carefully chosen local receptive fields with shared weights for multiple feature maps. Then higher levels are fully connected layers based on a traditional MLP with hidden layers and softmax as the output layer.\n",
    "\n",
    "So the structure of LeNet is as following: \n",
    "\n",
    "Input -> CONV -> ReLU -> POOL -> CONV -> ReLU -> POOL -> FC -> Softmax -> output\n",
    "\n",
    "![image](https://blog.dataiku.com/hs-fs/hubfs/Dataiku%20Dec%202016/Image/le_net.png?t=1513695546980&width=620&name=le_net.png)"
   ]
  },
  {
   "cell_type": "code",
   "execution_count": 2,
   "metadata": {
    "collapsed": true
   },
   "outputs": [],
   "source": [
    "# import the necessary packages\n",
    "from keras import backend as K\n",
    "from keras.models import Sequential\n",
    "from keras.layers.convolutional import Conv2D\n",
    "from keras.layers.convolutional import MaxPooling2D\n",
    "from keras.layers.core import Activation\n",
    "from keras.layers.core import Flatten\n",
    "from keras.layers.core import Dense\n",
    "from keras.datasets import mnist\n",
    "from keras.utils import np_utils\n",
    "from keras.optimizers import SGD, RMSprop, Adam\n",
    "import numpy as np\n",
    "\n",
    "import matplotlib.pyplot as plt\n",
    "\n",
    "np.random.seed(1671)  # for reproducibility\n",
    "\n",
    "#define the convnet \n",
    "class LeNet:\n",
    "    @staticmethod\n",
    "    def build(input_shape, classes):\n",
    "        model = Sequential()\n",
    "        # CONV => RELU => POOL \n",
    "        # 20 filters, each size 5 x 5\n",
    "        model.add(Conv2D(20, kernel_size=5, padding=\"same\",\n",
    "            input_shape=input_shape))\n",
    "        model.add(Activation(\"relu\"))\n",
    "        model.add(MaxPooling2D(pool_size=(2, 2), strides=(2, 2)))\n",
    "        # CONV => RELU => POOL\n",
    "        model.add(Conv2D(50, kernel_size=5, padding=\"same\"))\n",
    "        model.add(Activation(\"relu\"))\n",
    "        model.add(MaxPooling2D(pool_size=(2, 2), strides=(2, 2)))\n",
    "        # Flatten => RELU layers\n",
    "        model.add(Flatten())\n",
    "        model.add(Dense(500))\n",
    "        model.add(Activation(\"relu\"))\n",
    "\n",
    "        # a softmax classifier\n",
    "        model.add(Dense(classes))\n",
    "        model.add(Activation(\"softmax\"))\n",
    "\n",
    "        return model"
   ]
  },
  {
   "cell_type": "code",
   "execution_count": null,
   "metadata": {},
   "outputs": [
    {
     "name": "stdout",
     "output_type": "stream",
     "text": [
      "60000 train samples\n",
      "10000 test samples\n",
      "Train on 48000 samples, validate on 12000 samples\n",
      "Epoch 1/20\n",
      "48000/48000 [==============================] - 404s - loss: 0.1834 - acc: 0.9443 - val_loss: 0.0632 - val_acc: 0.9807\n",
      "Epoch 2/20\n",
      "48000/48000 [==============================] - 408s - loss: 0.0516 - acc: 0.9841 - val_loss: 0.0434 - val_acc: 0.9867\n",
      "Epoch 3/20\n",
      "48000/48000 [==============================] - 410s - loss: 0.0337 - acc: 0.9899 - val_loss: 0.0390 - val_acc: 0.9881\n",
      "Epoch 4/20\n",
      "48000/48000 [==============================] - 430s - loss: 0.0233 - acc: 0.9926 - val_loss: 0.0421 - val_acc: 0.9875\n",
      "Epoch 5/20\n",
      "48000/48000 [==============================] - 445s - loss: 0.0174 - acc: 0.9940 - val_loss: 0.0363 - val_acc: 0.9894\n",
      "Epoch 6/20\n",
      "48000/48000 [==============================] - 449s - loss: 0.0131 - acc: 0.9958 - val_loss: 0.0399 - val_acc: 0.9880\n",
      "Epoch 7/20\n",
      "48000/48000 [==============================] - 446s - loss: 0.0103 - acc: 0.9965 - val_loss: 0.0338 - val_acc: 0.9906\n",
      "Epoch 8/20\n",
      "48000/48000 [==============================] - 473s - loss: 0.0102 - acc: 0.9966 - val_loss: 0.0480 - val_acc: 0.9874\n",
      "Epoch 9/20\n",
      "48000/48000 [==============================] - 466s - loss: 0.0080 - acc: 0.9972 - val_loss: 0.0356 - val_acc: 0.9911\n",
      "Epoch 10/20\n",
      "48000/48000 [==============================] - 494s - loss: 0.0077 - acc: 0.9971 - val_loss: 0.0397 - val_acc: 0.9894\n",
      "Epoch 11/20\n",
      "48000/48000 [==============================] - 506s - loss: 0.0060 - acc: 0.9979 - val_loss: 0.0348 - val_acc: 0.9915\n",
      "Epoch 12/20\n",
      "48000/48000 [==============================] - 487s - loss: 0.0052 - acc: 0.9984 - val_loss: 0.0470 - val_acc: 0.9892\n",
      "Epoch 13/20\n",
      "48000/48000 [==============================] - 404s - loss: 0.0044 - acc: 0.9986 - val_loss: 0.0448 - val_acc: 0.9912\n",
      "Epoch 18/20\n",
      "48000/48000 [==============================] - 411s - loss: 0.0028 - acc: 0.9990 - val_loss: 0.0403 - val_acc: 0.9911\n",
      "Epoch 19/20\n",
      "48000/48000 [==============================] - 398s - loss: 0.0037 - acc: 0.9989 - val_loss: 0.0498 - val_acc: 0.9907\n",
      "Epoch 20/20\n",
      "48000/48000 [==============================] - 404s - loss: 0.0033 - acc: 0.9990 - val_loss: 0.0440 - val_acc: 0.9902\n",
      "10000/10000 [==============================] - 42s    \n",
      "\n",
      "Test score: 0.0439436320283\n",
      "Test accuracy: 0.9904\n"
     ]
    }
   ],
   "source": [
    "# network and training\n",
    "NB_EPOCH = 20\n",
    "BATCH_SIZE = 128\n",
    "VERBOSE = 1\n",
    "OPTIMIZER = Adam()\n",
    "VALIDATION_SPLIT=0.2\n",
    "\n",
    "IMG_ROWS, IMG_COLS = 28, 28 # input image dimensions\n",
    "NB_CLASSES = 10  # number of outputs = number of digits\n",
    "INPUT_SHAPE = (1, IMG_ROWS, IMG_COLS)\n",
    "\n",
    "# data: shuffled and split between train and test sets\n",
    "(X_train, y_train), (X_test, y_test) = mnist.load_data()\n",
    "K.set_image_dim_ordering(\"th\")\n",
    "\n",
    "# consider them as float and normalize\n",
    "X_train = X_train.astype('float32')\n",
    "X_test = X_test.astype('float32')\n",
    "X_train /= 255 \n",
    "X_test /= 255  \n",
    "\n",
    "# we need a 60K x [1 x 28 x 28] shape as input to the CONVNET\n",
    "X_train = X_train[:, np.newaxis, :, :]\n",
    "X_test = X_test[:, np.newaxis, :, :]\n",
    "\n",
    "print(X_train.shape[0], 'train samples')\n",
    "print(X_test.shape[0], 'test samples')\n",
    "\n",
    "# convert class vectors to binary class matrices\n",
    "y_train = np_utils.to_categorical(y_train, NB_CLASSES)\n",
    "y_test = np_utils.to_categorical(y_test, NB_CLASSES)\n",
    "\n",
    "# initialize the optimizer and model\n",
    "model = LeNet.build(input_shape=INPUT_SHAPE, classes=NB_CLASSES)\n",
    "model.compile(loss=\"categorical_crossentropy\", optimizer=OPTIMIZER, metrics=[\"accuracy\"])\n",
    "\n",
    "history = model.fit(X_train, y_train, \n",
    "        batch_size=BATCH_SIZE, epochs=NB_EPOCH, \n",
    "        verbose=VERBOSE, validation_split=VALIDATION_SPLIT)\n",
    "\n",
    "score = model.evaluate(X_test, y_test, verbose=VERBOSE)\n",
    "print(\"\\nTest score:\", score[0])\n",
    "print('Test accuracy:', score[1])\n"
   ]
  },
  {
   "cell_type": "code",
   "execution_count": null,
   "metadata": {},
   "outputs": [
    {
     "name": "stdout",
     "output_type": "stream",
     "text": [
      "dict_keys(['val_loss', 'val_acc', 'loss', 'acc'])\n"
     ]
    },
    {
     "data": {
      "image/png": "[encoded data removed]",
      "text/plain": [
       "<matplotlib.figure.Figure at 0x7f17edc7a160>"
      ]
     },
     "metadata": {},
     "output_type": "display_data"
    }
   ],
   "source": [
    "# list all data in history\n",
    "print(history.history.keys())\n",
    "# summarize history for accuracy\n",
    "plt.plot(history.history['acc'])\n",
    "plt.plot(history.history['val_acc'])\n",
    "plt.title('model accuracy')\n",
    "plt.ylabel('accuracy')\n",
    "plt.xlabel('epoch')\n",
    "plt.legend(['train', 'test'], loc='upper left')\n",
    "plt.show()\n"
   ]
  },
  {
   "cell_type": "code",
   "execution_count": null,
   "metadata": {},
   "outputs": [
    {
     "data": {
      "image/png": "[encoded data removed]",
      "text/plain": [
       "<matplotlib.figure.Figure at 0x7f17f0b14d68>"
      ]
     },
     "metadata": {},
     "output_type": "display_data"
    }
   ],
   "source": [
    "\n",
    "# summarize history for loss\n",
    "plt.plot(history.history['loss'])\n",
    "plt.plot(history.history['val_loss'])\n",
    "plt.title('model loss')\n",
    "plt.ylabel('loss')\n",
    "plt.xlabel('epoch')\n",
    "plt.legend(['train', 'test'], loc='upper left')\n",
    "plt.show()"
   ]
  },
  {
   "cell_type": "code",
   "execution_count": null,
   "metadata": {
    "collapsed": true
   },
   "outputs": [],
   "source": []
  }
 ],
 "metadata": {
  "kernelspec": {
   "display_name": "Python 3",
   "language": "python",
   "name": "python3"
  },
  "language_info": {
   "codemirror_mode": {
    "name": "ipython",
    "version": 3
   },
   "file_extension": ".py",
   "mimetype": "text/x-python",
   "name": "python",
   "nbconvert_exporter": "python",
   "pygments_lexer": "ipython3",
   "version": "3.6.0"
  }
 },
 "nbformat": 4,
 "nbformat_minor": 2
}
